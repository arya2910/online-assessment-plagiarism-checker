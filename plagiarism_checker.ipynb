{
  "nbformat": 4,
  "nbformat_minor": 0,
  "metadata": {
    "colab": {
      "name": "plagiarism checker.ipynb",
      "private_outputs": true,
      "provenance": [],
      "authorship_tag": "ABX9TyMl6lB1P9B/umqJGCHuSC85",
      "include_colab_link": true
    },
    "kernelspec": {
      "name": "python3",
      "display_name": "Python 3"
    },
    "language_info": {
      "name": "python"
    }
  },
  "cells": [
    {
      "cell_type": "markdown",
      "metadata": {
        "id": "view-in-github",
        "colab_type": "text"
      },
      "source": [
        "<a href=\"https://colab.research.google.com/github/arya2910/online-assessment-plagiarism-checker/blob/main/plagiarism_checker.ipynb\" target=\"_parent\"><img src=\"https://colab.research.google.com/assets/colab-badge.svg\" alt=\"Open In Colab\"/></a>"
      ]
    },
    {
      "cell_type": "code",
      "execution_count": null,
      "metadata": {
        "id": "wldieR5O0tRc"
      },
      "outputs": [],
      "source": [
        "!wget https://s3.amazonaws.com/video.udacity-data.com/topher/2019/January/5c4147f9_data/data.zip\n",
        "!unzip data"
      ]
    },
    {
      "cell_type": "markdown",
      "source": [
        ""
      ],
      "metadata": {
        "id": "4gKcdx3X1VUu"
      }
    },
    {
      "cell_type": "code",
      "source": [
        "import pandas as pd\n",
        "import numpy as np\n",
        "import os"
      ],
      "metadata": {
        "id": "CEXwrcyv1V2Z"
      },
      "execution_count": null,
      "outputs": []
    },
    {
      "cell_type": "code",
      "source": [
        "path='data/file_information.csv'\n",
        "plagiarism=pd.read_csv(path)\n",
        "plagiarism.head()"
      ],
      "metadata": {
        "id": "rreVAjhN1eAP"
      },
      "execution_count": null,
      "outputs": []
    },
    {
      "cell_type": "code",
      "source": [
        "target=plagiarism['Task']\n",
        "target"
      ],
      "metadata": {
        "id": "j6XFYvCe2FCb"
      },
      "execution_count": null,
      "outputs": []
    }
  ]
}